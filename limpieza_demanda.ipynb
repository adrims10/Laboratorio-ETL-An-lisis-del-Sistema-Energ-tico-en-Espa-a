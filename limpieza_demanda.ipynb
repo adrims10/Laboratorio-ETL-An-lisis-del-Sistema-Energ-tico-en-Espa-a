{
 "cells": [
  {
   "cell_type": "code",
   "execution_count": 1,
   "metadata": {},
   "outputs": [],
   "source": [
    "import os\n",
    "import pandas as pd\n",
    "from tqdm import tqdm\n",
    "pd.set_option('display.max_columns', None) # para poder visualizar todas las columnas de los DataFrames\n",
    "import warnings\n",
    "warnings.filterwarnings(\"ignore\")\n",
    "import zipfile\n",
    "import shutil\n",
    "import re\n",
    "import sys\n",
    "import json\n",
    "sys.path.append(\"../\")\n",
    "from src import soporte_analisis as st"
   ]
  },
  {
   "cell_type": "code",
   "execution_count": null,
   "metadata": {},
   "outputs": [],
   "source": [
    "with open('datos/Apis/2019_demanda_evolucion_Andalucía_4.json', 'r') as file:\n",
    "    data = json.load(file)\n"
   ]
  },
  {
   "cell_type": "code",
   "execution_count": 50,
   "metadata": {},
   "outputs": [],
   "source": [
    "values = data['value']['0']\n",
    "Porcentaje = data['percentage']['0']\n",
    "Fecha = data['datetime']['0']"
   ]
  }
 ],
 "metadata": {
  "kernelspec": {
   "display_name": "Python 3",
   "language": "python",
   "name": "python3"
  },
  "language_info": {
   "codemirror_mode": {
    "name": "ipython",
    "version": 3
   },
   "file_extension": ".py",
   "mimetype": "text/x-python",
   "name": "python",
   "nbconvert_exporter": "python",
   "pygments_lexer": "ipython3",
   "version": "3.12.6"
  }
 },
 "nbformat": 4,
 "nbformat_minor": 2
}
