{
 "cells": [
  {
   "cell_type": "code",
   "execution_count": 2,
   "metadata": {},
   "outputs": [],
   "source": [
    "from selenium.webdriver.support.ui import WebDriverWait\n",
    "from selenium.webdriver.common.by import By\n",
    "from selenium.webdriver.support import expected_conditions as EC\n",
    "from time import sleep\n",
    "# Selenium para establecer la configuración del driver\n",
    "# -----------------------------------------------------------------------\n",
    "from selenium import webdriver\n",
    "\n",
    "# Para generar una barra de proceso en los bucles for\n",
    "# -----------------------------------------------------------------------\n",
    "from tqdm import tqdm\n",
    "\n",
    "# Para trabajar con ficheros\n",
    "# -----------------------------------------------------------------------\n",
    "import os\n",
    "\n",
    "import re\n",
    "\n",
    "import zipfile\n",
    "import shutil"
   ]
  },
  {
   "cell_type": "code",
   "execution_count": 3,
   "metadata": {},
   "outputs": [
    {
     "ename": "ElementClickInterceptedException",
     "evalue": "Message: element click intercepted: Element <input type=\"submit\" class=\"botonSel\" id=\"botonConsulSele\" name=\"consulsele\" value=\"Consultar selección\" onmouseover=\"\"> is not clickable at point (423, 550). Other element would receive the click: <div class=\"homePie\">...</div>\n  (Session info: chrome=130.0.6723.70)\nStacktrace:\n\tGetHandleVerifier [0x00007FF7AEA03AB5+28005]\n\t(No symbol) [0x00007FF7AE9683B0]\n\t(No symbol) [0x00007FF7AE80580A]\n\t(No symbol) [0x00007FF7AE85D6CE]\n\t(No symbol) [0x00007FF7AE85B16C]\n\t(No symbol) [0x00007FF7AE858628]\n\t(No symbol) [0x00007FF7AE85785D]\n\t(No symbol) [0x00007FF7AE84990E]\n\t(No symbol) [0x00007FF7AE87BA3A]\n\t(No symbol) [0x00007FF7AE849246]\n\t(No symbol) [0x00007FF7AE87BC50]\n\t(No symbol) [0x00007FF7AE89B8B3]\n\t(No symbol) [0x00007FF7AE87B7E3]\n\t(No symbol) [0x00007FF7AE8475C8]\n\t(No symbol) [0x00007FF7AE848731]\n\tGetHandleVerifier [0x00007FF7AECF643D+3118829]\n\tGetHandleVerifier [0x00007FF7AED46C90+3448640]\n\tGetHandleVerifier [0x00007FF7AED3CF0D+3408317]\n\tGetHandleVerifier [0x00007FF7AEACA40B+841403]\n\t(No symbol) [0x00007FF7AE97340F]\n\t(No symbol) [0x00007FF7AE96F484]\n\t(No symbol) [0x00007FF7AE96F61D]\n\t(No symbol) [0x00007FF7AE95EB79]\n\tBaseThreadInitThunk [0x00007FFBC7CA7374+20]\n\tRtlUserThreadStart [0x00007FFBC8B1CC91+33]\n",
     "output_type": "error",
     "traceback": [
      "\u001b[1;31m---------------------------------------------------------------------------\u001b[0m",
      "\u001b[1;31mElementClickInterceptedException\u001b[0m          Traceback (most recent call last)",
      "Cell \u001b[1;32mIn[3], line 39\u001b[0m\n\u001b[0;32m     36\u001b[0m     driver\u001b[38;5;241m.\u001b[39mquit()\n\u001b[0;32m     38\u001b[0m url \u001b[38;5;241m=\u001b[39m \u001b[38;5;124m\"\u001b[39m\u001b[38;5;124mhttps://www.ine.es/jaxi/Tabla.htm?path=/t20/e245/p08/l0/&file=03001.px&L=0\u001b[39m\u001b[38;5;124m\"\u001b[39m\n\u001b[1;32m---> 39\u001b[0m \u001b[43macceder_datos_multiple\u001b[49m\u001b[43m(\u001b[49m\u001b[43murl\u001b[49m\u001b[43m)\u001b[49m\n",
      "Cell \u001b[1;32mIn[3], line 27\u001b[0m, in \u001b[0;36macceder_datos_multiple\u001b[1;34m(url)\u001b[0m\n\u001b[0;32m     25\u001b[0m boton_elijo \u001b[38;5;241m=\u001b[39m driver\u001b[38;5;241m.\u001b[39mfind_element(\u001b[38;5;124m\"\u001b[39m\u001b[38;5;124mcss selector\u001b[39m\u001b[38;5;124m\"\u001b[39m, \u001b[38;5;124mf\u001b[39m\u001b[38;5;124m'\u001b[39m\u001b[38;5;124m#periodo > option:nth-child(\u001b[39m\u001b[38;5;132;01m{\u001b[39;00mi\u001b[38;5;132;01m}\u001b[39;00m\u001b[38;5;124m)\u001b[39m\u001b[38;5;124m'\u001b[39m)\u001b[38;5;241m.\u001b[39mclick()\n\u001b[0;32m     26\u001b[0m driver\u001b[38;5;241m.\u001b[39mimplicitly_wait(\u001b[38;5;241m10\u001b[39m)\n\u001b[1;32m---> 27\u001b[0m boton_consulta \u001b[38;5;241m=\u001b[39m \u001b[43mdriver\u001b[49m\u001b[38;5;241;43m.\u001b[39;49m\u001b[43mfind_element\u001b[49m\u001b[43m(\u001b[49m\u001b[38;5;124;43m\"\u001b[39;49m\u001b[38;5;124;43mcss selector\u001b[39;49m\u001b[38;5;124;43m\"\u001b[39;49m\u001b[43m,\u001b[49m\u001b[43m \u001b[49m\u001b[38;5;124;43m'\u001b[39;49m\u001b[38;5;124;43m#botonConsulSele\u001b[39;49m\u001b[38;5;124;43m'\u001b[39;49m\u001b[43m)\u001b[49m\u001b[38;5;241;43m.\u001b[39;49m\u001b[43mclick\u001b[49m\u001b[43m(\u001b[49m\u001b[43m)\u001b[49m\n\u001b[0;32m     28\u001b[0m driver\u001b[38;5;241m.\u001b[39mimplicitly_wait(\u001b[38;5;241m10\u001b[39m)\n\u001b[0;32m     30\u001b[0m acceder_datos1 \u001b[38;5;241m=\u001b[39m driver\u001b[38;5;241m.\u001b[39mfind_element(\u001b[38;5;124m'\u001b[39m\u001b[38;5;124mxpath\u001b[39m\u001b[38;5;124m'\u001b[39m, \u001b[38;5;124m'\u001b[39m\u001b[38;5;124m/html/body/div[1]/main/ul/li/div/div/form[2]/button\u001b[39m\u001b[38;5;124m'\u001b[39m)\u001b[38;5;241m.\u001b[39mclick()\n",
      "File \u001b[1;32mc:\\Users\\HP\\AppData\\Local\\Programs\\Python\\Python312\\Lib\\site-packages\\selenium\\webdriver\\remote\\webelement.py:94\u001b[0m, in \u001b[0;36mWebElement.click\u001b[1;34m(self)\u001b[0m\n\u001b[0;32m     92\u001b[0m \u001b[38;5;28;01mdef\u001b[39;00m \u001b[38;5;21mclick\u001b[39m(\u001b[38;5;28mself\u001b[39m) \u001b[38;5;241m-\u001b[39m\u001b[38;5;241m>\u001b[39m \u001b[38;5;28;01mNone\u001b[39;00m:\n\u001b[0;32m     93\u001b[0m \u001b[38;5;250m    \u001b[39m\u001b[38;5;124;03m\"\"\"Clicks the element.\"\"\"\u001b[39;00m\n\u001b[1;32m---> 94\u001b[0m     \u001b[38;5;28;43mself\u001b[39;49m\u001b[38;5;241;43m.\u001b[39;49m\u001b[43m_execute\u001b[49m\u001b[43m(\u001b[49m\u001b[43mCommand\u001b[49m\u001b[38;5;241;43m.\u001b[39;49m\u001b[43mCLICK_ELEMENT\u001b[49m\u001b[43m)\u001b[49m\n",
      "File \u001b[1;32mc:\\Users\\HP\\AppData\\Local\\Programs\\Python\\Python312\\Lib\\site-packages\\selenium\\webdriver\\remote\\webelement.py:395\u001b[0m, in \u001b[0;36mWebElement._execute\u001b[1;34m(self, command, params)\u001b[0m\n\u001b[0;32m    393\u001b[0m     params \u001b[38;5;241m=\u001b[39m {}\n\u001b[0;32m    394\u001b[0m params[\u001b[38;5;124m\"\u001b[39m\u001b[38;5;124mid\u001b[39m\u001b[38;5;124m\"\u001b[39m] \u001b[38;5;241m=\u001b[39m \u001b[38;5;28mself\u001b[39m\u001b[38;5;241m.\u001b[39m_id\n\u001b[1;32m--> 395\u001b[0m \u001b[38;5;28;01mreturn\u001b[39;00m \u001b[38;5;28;43mself\u001b[39;49m\u001b[38;5;241;43m.\u001b[39;49m\u001b[43m_parent\u001b[49m\u001b[38;5;241;43m.\u001b[39;49m\u001b[43mexecute\u001b[49m\u001b[43m(\u001b[49m\u001b[43mcommand\u001b[49m\u001b[43m,\u001b[49m\u001b[43m \u001b[49m\u001b[43mparams\u001b[49m\u001b[43m)\u001b[49m\n",
      "File \u001b[1;32mc:\\Users\\HP\\AppData\\Local\\Programs\\Python\\Python312\\Lib\\site-packages\\selenium\\webdriver\\remote\\webdriver.py:347\u001b[0m, in \u001b[0;36mWebDriver.execute\u001b[1;34m(self, driver_command, params)\u001b[0m\n\u001b[0;32m    345\u001b[0m response \u001b[38;5;241m=\u001b[39m \u001b[38;5;28mself\u001b[39m\u001b[38;5;241m.\u001b[39mcommand_executor\u001b[38;5;241m.\u001b[39mexecute(driver_command, params)\n\u001b[0;32m    346\u001b[0m \u001b[38;5;28;01mif\u001b[39;00m response:\n\u001b[1;32m--> 347\u001b[0m     \u001b[38;5;28;43mself\u001b[39;49m\u001b[38;5;241;43m.\u001b[39;49m\u001b[43merror_handler\u001b[49m\u001b[38;5;241;43m.\u001b[39;49m\u001b[43mcheck_response\u001b[49m\u001b[43m(\u001b[49m\u001b[43mresponse\u001b[49m\u001b[43m)\u001b[49m\n\u001b[0;32m    348\u001b[0m     response[\u001b[38;5;124m\"\u001b[39m\u001b[38;5;124mvalue\u001b[39m\u001b[38;5;124m\"\u001b[39m] \u001b[38;5;241m=\u001b[39m \u001b[38;5;28mself\u001b[39m\u001b[38;5;241m.\u001b[39m_unwrap_value(response\u001b[38;5;241m.\u001b[39mget(\u001b[38;5;124m\"\u001b[39m\u001b[38;5;124mvalue\u001b[39m\u001b[38;5;124m\"\u001b[39m, \u001b[38;5;28;01mNone\u001b[39;00m))\n\u001b[0;32m    349\u001b[0m     \u001b[38;5;28;01mreturn\u001b[39;00m response\n",
      "File \u001b[1;32mc:\\Users\\HP\\AppData\\Local\\Programs\\Python\\Python312\\Lib\\site-packages\\selenium\\webdriver\\remote\\errorhandler.py:229\u001b[0m, in \u001b[0;36mErrorHandler.check_response\u001b[1;34m(self, response)\u001b[0m\n\u001b[0;32m    227\u001b[0m         alert_text \u001b[38;5;241m=\u001b[39m value[\u001b[38;5;124m\"\u001b[39m\u001b[38;5;124malert\u001b[39m\u001b[38;5;124m\"\u001b[39m]\u001b[38;5;241m.\u001b[39mget(\u001b[38;5;124m\"\u001b[39m\u001b[38;5;124mtext\u001b[39m\u001b[38;5;124m\"\u001b[39m)\n\u001b[0;32m    228\u001b[0m     \u001b[38;5;28;01mraise\u001b[39;00m exception_class(message, screen, stacktrace, alert_text)  \u001b[38;5;66;03m# type: ignore[call-arg]  # mypy is not smart enough here\u001b[39;00m\n\u001b[1;32m--> 229\u001b[0m \u001b[38;5;28;01mraise\u001b[39;00m exception_class(message, screen, stacktrace)\n",
      "\u001b[1;31mElementClickInterceptedException\u001b[0m: Message: element click intercepted: Element <input type=\"submit\" class=\"botonSel\" id=\"botonConsulSele\" name=\"consulsele\" value=\"Consultar selección\" onmouseover=\"\"> is not clickable at point (423, 550). Other element would receive the click: <div class=\"homePie\">...</div>\n  (Session info: chrome=130.0.6723.70)\nStacktrace:\n\tGetHandleVerifier [0x00007FF7AEA03AB5+28005]\n\t(No symbol) [0x00007FF7AE9683B0]\n\t(No symbol) [0x00007FF7AE80580A]\n\t(No symbol) [0x00007FF7AE85D6CE]\n\t(No symbol) [0x00007FF7AE85B16C]\n\t(No symbol) [0x00007FF7AE858628]\n\t(No symbol) [0x00007FF7AE85785D]\n\t(No symbol) [0x00007FF7AE84990E]\n\t(No symbol) [0x00007FF7AE87BA3A]\n\t(No symbol) [0x00007FF7AE849246]\n\t(No symbol) [0x00007FF7AE87BC50]\n\t(No symbol) [0x00007FF7AE89B8B3]\n\t(No symbol) [0x00007FF7AE87B7E3]\n\t(No symbol) [0x00007FF7AE8475C8]\n\t(No symbol) [0x00007FF7AE848731]\n\tGetHandleVerifier [0x00007FF7AECF643D+3118829]\n\tGetHandleVerifier [0x00007FF7AED46C90+3448640]\n\tGetHandleVerifier [0x00007FF7AED3CF0D+3408317]\n\tGetHandleVerifier [0x00007FF7AEACA40B+841403]\n\t(No symbol) [0x00007FF7AE97340F]\n\t(No symbol) [0x00007FF7AE96F484]\n\t(No symbol) [0x00007FF7AE96F61D]\n\t(No symbol) [0x00007FF7AE95EB79]\n\tBaseThreadInitThunk [0x00007FFBC7CA7374+20]\n\tRtlUserThreadStart [0x00007FFBC8B1CC91+33]\n"
     ]
    }
   ],
   "source": [
    "def acceder_datos_multiple(url):\n",
    "\n",
    "    chrome_options = webdriver.ChromeOptions()\n",
    "    \n",
    "    # Establecer preferencias de descarga\n",
    "    prefs = {\n",
    "        \"download.default_directory\": \"C:\\\\Users\\\\HP\\\\Boot\\\\Proyecto extraccion-carpeta-des\\\\datos\",\n",
    "        \"download.prompt_for_download\": False,\n",
    "        \"directory_upgrade\": True,\n",
    "        \"safebrowsing.enabled\": True\n",
    "    }\n",
    "    \n",
    "    # Aplicar preferencias al navegador\n",
    "    chrome_options.add_experimental_option(\"prefs\", prefs)\n",
    "\n",
    "    # Inicializar el driver con las opciones configuradas\n",
    "    driver = webdriver.Chrome(options=chrome_options)\n",
    "    driver.get(url)\n",
    "    sleep(5)\n",
    "    \n",
    "    driver.find_element('css selector', '#aceptarCookie').click()\n",
    "    driver.implicitly_wait(10)\n",
    "\n",
    "    for i in range(2, 5):\n",
    "        boton_elijo = driver.find_element(\"css selector\", f'#periodo > option:nth-child({i})').click()\n",
    "        driver.implicitly_wait(10)\n",
    "        boton_consulta = driver.find_element(\"css selector\", '#botonConsulSele').click()\n",
    "        driver.implicitly_wait(10)\n",
    "\n",
    "        acceder_datos1 = driver.find_element('xpath', '/html/body/div[1]/main/ul/li/div/div/form[2]/button').click()\n",
    "        driver.implicitly_wait(20)\n",
    "        sleep(5)\n",
    "\n",
    "        acceder_datos2 = driver.find_element('xpath', '//*[@id=\"export\"]/ul/li[4]/label').click()\n",
    "\n",
    "    driver.quit()\n",
    "\n",
    "url = \"https://www.ine.es/jaxi/Tabla.htm?path=/t20/e245/p08/l0/&file=03001.px&L=0\"\n",
    "acceder_datos_multiple(url)"
   ]
  }
 ],
 "metadata": {
  "kernelspec": {
   "display_name": "Python 3",
   "language": "python",
   "name": "python3"
  },
  "language_info": {
   "codemirror_mode": {
    "name": "ipython",
    "version": 3
   },
   "file_extension": ".py",
   "mimetype": "text/x-python",
   "name": "python",
   "nbconvert_exporter": "python",
   "pygments_lexer": "ipython3",
   "version": "3.12.6"
  }
 },
 "nbformat": 4,
 "nbformat_minor": 2
}
