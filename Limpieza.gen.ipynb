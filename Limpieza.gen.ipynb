{
 "cells": [
  {
   "cell_type": "code",
   "execution_count": 17,
   "metadata": {},
   "outputs": [],
   "source": [
    "import os\n",
    "import pandas as pd\n",
    "from tqdm import tqdm\n",
    "pd.set_option('display.max_columns', None) # para poder visualizar todas las columnas de los DataFrames\n",
    "import warnings\n",
    "warnings.filterwarnings(\"ignore\")\n",
    "import zipfile\n",
    "import shutil\n",
    "import re\n",
    "import sys\n",
    "import json\n",
    "sys.path.append(\"../\")\n",
    "from src import soporte_analisis as st"
   ]
  },
  {
   "cell_type": "code",
   "execution_count": null,
   "metadata": {},
   "outputs": [
    {
     "name": "stdout",
     "output_type": "stream",
     "text": [
      "{'0': {'title': 'Hidráulica', 'description': 'Hidráulica: no incluye la generación bombeo.', 'color': '#0090d1', 'type': None, 'magnitude': None, 'composite': False, 'last-update': '2022-01-13T12:43:08.000+01:00', 'values': [{'value': 65721.585, 'percentage': 0.5865866471, 'datetime': '2021-01-01T00:00:00.000+01:00'}, {'value': 54404.335, 'percentage': 0.46195955, 'datetime': '2021-02-01T00:00:00.000+01:00'}, {'value': 36363.33, 'percentage': 0.3289552816, 'datetime': '2021-03-01T00:00:00.000+01:00'}, {'value': 19311.79, 'percentage': 0.2065208126, 'datetime': '2021-04-01T00:00:00.000+02:00'}, {'value': 17872.808, 'percentage': 0.2461541597, 'datetime': '2021-05-01T00:00:00.000+02:00'}, {'value': 20553.137, 'percentage': 0.2513090254, 'datetime': '2021-06-01T00:00:00.000+02:00'}, {'value': 21332.813, 'percentage': 0.2539460534, 'datetime': '2021-07-01T00:00:00.000+02:00'}, {'value': 18915.412, 'percentage': 0.2317233023, 'datetime': '2021-08-01T00:00:00.000+02:00'}, {'value': 12108.089, 'percentage': 0.2025711829, 'datetime': '2021-09-01T00:00:00.000+02:00'}, {'value': 10345.409, 'percentage': 0.1519910704, 'datetime': '2021-10-01T00:00:00.000+02:00'}, {'value': 26706.254, 'percentage': 0.2725506151, 'datetime': '2021-11-01T00:00:00.000+01:00'}, {'value': 88060.533, 'percentage': 0.5459152591, 'datetime': '2021-12-01T00:00:00.000+01:00'}]}, '1': {'title': 'Eólica', 'description': None, 'color': '#6fb114', 'type': None, 'magnitude': None, 'composite': False, 'last-update': '2022-11-10T23:30:06.000+01:00', 'values': [{'value': 21884.058, 'percentage': 0.1953223771, 'datetime': '2021-01-01T00:00:00.000+01:00'}, {'value': 30459.063, 'percentage': 0.2586348135, 'datetime': '2021-02-01T00:00:00.000+01:00'}, {'value': 32427.253, 'percentage': 0.2933481654, 'datetime': '2021-03-01T00:00:00.000+01:00'}, {'value': 31452.504, 'percentage': 0.3363539416, 'datetime': '2021-04-01T00:00:00.000+02:00'}, {'value': 18112.192, 'percentage': 0.2494510881, 'datetime': '2021-05-01T00:00:00.000+02:00'}, {'value': 17035.913, 'percentage': 0.2083029317, 'datetime': '2021-06-01T00:00:00.000+02:00'}, {'value': 18365.706, 'percentage': 0.2186255772, 'datetime': '2021-07-01T00:00:00.000+02:00'}, {'value': 17284.923, 'percentage': 0.2117489927, 'datetime': '2021-08-01T00:00:00.000+02:00'}, {'value': 17536.746, 'percentage': 0.2933938941, 'datetime': '2021-09-01T00:00:00.000+02:00'}, {'value': 24124.498, 'percentage': 0.3544285465, 'datetime': '2021-10-01T00:00:00.000+02:00'}, {'value': 33371.928, 'percentage': 0.3405771361, 'datetime': '2021-11-01T00:00:00.000+01:00'}, {'value': 36335.059, 'percentage': 0.2252525901, 'datetime': '2021-12-01T00:00:00.000+01:00'}]}, '2': {'title': 'Solar fotovoltaica', 'description': None, 'color': '#e48500', 'type': None, 'magnitude': None, 'composite': False, 'last-update': '2022-11-15T19:06:23.000+01:00', 'values': [{'value': 2176.267, 'percentage': 0.0194238949, 'datetime': '2021-01-01T00:00:00.000+01:00'}, {'value': 3091.262, 'percentage': 0.0262486069, 'datetime': '2021-02-01T00:00:00.000+01:00'}, {'value': 5576.44, 'percentage': 0.0504464082, 'datetime': '2021-03-01T00:00:00.000+01:00'}, {'value': 6496.627, 'percentage': 0.0694751076, 'datetime': '2021-04-01T00:00:00.000+02:00'}, {'value': 7953.879, 'percentage': 0.1095452042, 'datetime': '2021-05-01T00:00:00.000+02:00'}, {'value': 7684.391, 'percentage': 0.0939592245, 'datetime': '2021-06-01T00:00:00.000+02:00'}, {'value': 8318.117, 'percentage': 0.0990189612, 'datetime': '2021-07-01T00:00:00.000+02:00'}, {'value': 8018.942, 'percentage': 0.0982360691, 'datetime': '2021-08-01T00:00:00.000+02:00'}, {'value': 5305.589, 'percentage': 0.0887637545, 'datetime': '2021-09-01T00:00:00.000+02:00'}, {'value': 5030.212, 'percentage': 0.0739020861, 'datetime': '2021-10-01T00:00:00.000+02:00'}, {'value': 1994.528, 'percentage': 0.020355151, 'datetime': '2021-11-01T00:00:00.000+01:00'}, {'value': 1808.493, 'percentage': 0.0112114234, 'datetime': '2021-12-01T00:00:00.000+01:00'}]}, '3': {'title': 'Otras renovables', 'description': 'Otras renovables: incluyen biogás, biomasa, hidráulica marina y geotérmica.', 'color': '#9a5cbc', 'type': None, 'magnitude': None, 'composite': False, 'last-update': '2021-04-22T10:52:33.000+02:00', 'values': [{'value': 5057.331, 'percentage': 0.0451383337, 'datetime': '2021-01-01T00:00:00.000+01:00'}, {'value': 4959.869, 'percentage': 0.0421153728, 'datetime': '2021-02-01T00:00:00.000+01:00'}, {'value': 5775.072, 'percentage': 0.0522433021, 'datetime': '2021-03-01T00:00:00.000+01:00'}, {'value': 5698.379, 'percentage': 0.0609386215, 'datetime': '2021-04-01T00:00:00.000+02:00'}, {'value': 5090.09, 'percentage': 0.0701035241, 'datetime': '2021-05-01T00:00:00.000+02:00'}, {'value': 5027.589, 'percentage': 0.0614737542, 'datetime': '2021-06-01T00:00:00.000+02:00'}, {'value': 4871.619, 'percentage': 0.0579918091, 'datetime': '2021-07-01T00:00:00.000+02:00'}, {'value': 3813.096, 'percentage': 0.0467123421, 'datetime': '2021-08-01T00:00:00.000+02:00'}, {'value': 4596.96, 'percentage': 0.0769082243, 'datetime': '2021-09-01T00:00:00.000+02:00'}, {'value': 5323.185, 'percentage': 0.0782063412, 'datetime': '2021-10-01T00:00:00.000+02:00'}, {'value': 4476.975, 'percentage': 0.0456897583, 'datetime': '2021-11-01T00:00:00.000+01:00'}, {'value': 1684.98, 'percentage': 0.0104457271, 'datetime': '2021-12-01T00:00:00.000+01:00'}]}, '4': {'title': 'Residuos renovables', 'description': 'Residuos renovables: el 50% de la generación procedente de residuos sólidos urbanos se considera renovable.', 'color': '#a0a0a0', 'type': None, 'magnitude': None, 'composite': False, 'last-update': '2021-04-22T10:52:33.000+02:00', 'values': [{'value': 17201.47, 'percentage': 0.1535287472, 'datetime': '2021-01-01T00:00:00.000+01:00'}, {'value': 24854.083, 'percentage': 0.2110416568, 'datetime': '2021-02-01T00:00:00.000+01:00'}, {'value': 30399.769, 'percentage': 0.2750068427, 'datetime': '2021-03-01T00:00:00.000+01:00'}, {'value': 30550.8395, 'percentage': 0.3267115167, 'datetime': '2021-04-01T00:00:00.000+02:00'}, {'value': 23579.221, 'percentage': 0.3247460238, 'datetime': '2021-05-01T00:00:00.000+02:00'}, {'value': 31483.287, 'percentage': 0.3849550642, 'datetime': '2021-06-01T00:00:00.000+02:00'}, {'value': 31117.0395, 'percentage': 0.3704175991, 'datetime': '2021-07-01T00:00:00.000+02:00'}, {'value': 33596.9315, 'percentage': 0.4115792938, 'datetime': '2021-08-01T00:00:00.000+02:00'}, {'value': 20224.637, 'percentage': 0.3383629441, 'datetime': '2021-09-01T00:00:00.000+02:00'}, {'value': 23242.596, 'percentage': 0.3414719559, 'datetime': '2021-10-01T00:00:00.000+02:00'}, {'value': 31436.7165, 'percentage': 0.3208273395, 'datetime': '2021-11-01T00:00:00.000+01:00'}, {'value': 33418.998, 'percentage': 0.2071750003, 'datetime': '2021-12-01T00:00:00.000+01:00'}]}, '5': {'title': 'Generación renovable', 'description': None, 'color': '#2b2e34', 'type': 'Generación renovable', 'magnitude': None, 'composite': True, 'last-update': '2022-01-13T12:43:08.000+01:00', 'values': [{'value': 112040.711, 'percentage': 1, 'datetime': '2021-01-01T00:00:00.000+01:00'}, {'value': 117768.612, 'percentage': 1, 'datetime': '2021-02-01T00:00:00.000+01:00'}, {'value': 110541.864, 'percentage': 1, 'datetime': '2021-03-01T00:00:00.000+01:00'}, {'value': 93510.1395, 'percentage': 1, 'datetime': '2021-04-01T00:00:00.000+02:00'}, {'value': 72608.19, 'percentage': 1, 'datetime': '2021-05-01T00:00:00.000+02:00'}, {'value': 81784.317, 'percentage': 1, 'datetime': '2021-06-01T00:00:00.000+02:00'}, {'value': 84005.2945, 'percentage': 1, 'datetime': '2021-07-01T00:00:00.000+02:00'}, {'value': 81629.3045, 'percentage': 1, 'datetime': '2021-08-01T00:00:00.000+02:00'}, {'value': 59772.021, 'percentage': 1, 'datetime': '2021-09-01T00:00:00.000+02:00'}, {'value': 68065.9, 'percentage': 1, 'datetime': '2021-10-01T00:00:00.000+02:00'}, {'value': 97986.4015, 'percentage': 1, 'datetime': '2021-11-01T00:00:00.000+01:00'}, {'value': 161308.063, 'percentage': 1, 'datetime': '2021-12-01T00:00:00.000+01:00'}]}}\n",
      "{'title': 'Hidráulica', 'description': 'Hidráulica: no incluye la generación bombeo.', 'color': '#0090d1', 'type': None, 'magnitude': None, 'composite': False, 'last-update': '2022-01-13T12:43:08.000+01:00', 'values': [{'value': 65721.585, 'percentage': 0.5865866471, 'datetime': '2021-01-01T00:00:00.000+01:00'}, {'value': 54404.335, 'percentage': 0.46195955, 'datetime': '2021-02-01T00:00:00.000+01:00'}, {'value': 36363.33, 'percentage': 0.3289552816, 'datetime': '2021-03-01T00:00:00.000+01:00'}, {'value': 19311.79, 'percentage': 0.2065208126, 'datetime': '2021-04-01T00:00:00.000+02:00'}, {'value': 17872.808, 'percentage': 0.2461541597, 'datetime': '2021-05-01T00:00:00.000+02:00'}, {'value': 20553.137, 'percentage': 0.2513090254, 'datetime': '2021-06-01T00:00:00.000+02:00'}, {'value': 21332.813, 'percentage': 0.2539460534, 'datetime': '2021-07-01T00:00:00.000+02:00'}, {'value': 18915.412, 'percentage': 0.2317233023, 'datetime': '2021-08-01T00:00:00.000+02:00'}, {'value': 12108.089, 'percentage': 0.2025711829, 'datetime': '2021-09-01T00:00:00.000+02:00'}, {'value': 10345.409, 'percentage': 0.1519910704, 'datetime': '2021-10-01T00:00:00.000+02:00'}, {'value': 26706.254, 'percentage': 0.2725506151, 'datetime': '2021-11-01T00:00:00.000+01:00'}, {'value': 88060.533, 'percentage': 0.5459152591, 'datetime': '2021-12-01T00:00:00.000+01:00'}]}\n"
     ]
    }
   ],
   "source": [
    "with open('datos/2021_generacion_estructura_País Vasco_10.json', 'r') as file:\n",
    "    data = json.load(file)\n",
    "    personas = data['attributes']\n",
    "    print(personas)\n",
    "    primera_persona = personas['0']\n",
    "    print(primera_persona)\n",
    "    value_final= primera_persona['values']\n",
    "    elemento1 = value_final[0]\n",
    "    valorelemento = elemento1['value']\n",
    "    percentageelemento = elemento1['percentage']\n",
    "    dateelemento = elemento1['datetime']\n",
    "    print(valorelemento)\n",
    "    print(percentageelemento) \n",
    "    print(type(dateelemento))"
   ]
  }
 ],
 "metadata": {
  "kernelspec": {
   "display_name": "Python 3",
   "language": "python",
   "name": "python3"
  },
  "language_info": {
   "codemirror_mode": {
    "name": "ipython",
    "version": 3
   },
   "file_extension": ".py",
   "mimetype": "text/x-python",
   "name": "python",
   "nbconvert_exporter": "python",
   "pygments_lexer": "ipython3",
   "version": "3.12.6"
  }
 },
 "nbformat": 4,
 "nbformat_minor": 2
}
