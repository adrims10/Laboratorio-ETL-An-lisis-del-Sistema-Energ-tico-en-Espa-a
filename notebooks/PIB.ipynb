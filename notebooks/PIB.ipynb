{
 "cells": [
  {
   "cell_type": "code",
   "execution_count": 18,
   "metadata": {},
   "outputs": [],
   "source": [
    "from selenium.webdriver.support.ui import WebDriverWait\n",
    "from selenium.webdriver.common.by import By\n",
    "from selenium.webdriver.support import expected_conditions as EC\n",
    "from time import sleep\n",
    "# Selenium para establecer la configuración del driver\n",
    "# -----------------------------------------------------------------------\n",
    "from selenium import webdriver\n",
    "\n",
    "# Para generar una barra de proceso en los bucles for\n",
    "# -----------------------------------------------------------------------\n",
    "from tqdm import tqdm\n",
    "\n",
    "# Para trabajar con ficheros\n",
    "# -----------------------------------------------------------------------\n",
    "import os\n",
    "import re\n",
    "import zipfile\n",
    "import shutil\n",
    "import pandas as pd\n",
    "import re\n",
    "import sys\n",
    "sys.path.append(\"../\")\n",
    "from src import selenium as sps"
   ]
  },
  {
   "cell_type": "code",
   "execution_count": 3,
   "metadata": {},
   "outputs": [],
   "source": [
    "url = \"https://www.ine.es/jaxi/Tabla.htm?tpx=67284&L=0\"             #PIB"
   ]
  },
  {
   "cell_type": "code",
   "execution_count": 4,
   "metadata": {},
   "outputs": [],
   "source": [
    "chrome_options = webdriver.ChromeOptions()\n",
    "\n",
    "# establacemos las preferencias que queremos\n",
    "prefs = {\n",
    "    \"download.default_directory\": \"C:\\\\Users\\\\HP\\\\Boot\\\\Proyecto extraccion-carpeta-des\\\\datos\",  # AQUÍ CADA UNO TENDREMOS QUE PONER LA RUTA QUE QUERAMOS PARA QUE SE GUARDEN LOS ARCHIVOS DESCARGADOS\n",
    "    \"download.prompt_for_download\": False,   # desactiva el diálogo que Chrome normalmente muestra para pedir confirmación del usuario antes de descargar un archivo\n",
    "    \"directory_upgrade\": True,    # hace que Chrome actualice el directorio de descarga predeterminado a la nueva ubicación especificada por download.default_directory si esta ha cambiado.\n",
    "    \"safebrowsing.enabled\": True # protegemos al driver de sitios web peligrosos\n",
    "}\n",
    "\n",
    "# configuramos el navegador Chrome con preferencias específicas definidas en el diccionario prefs\n",
    "chrome_options.add_experimental_option(\"prefs\", prefs)"
   ]
  },
  {
   "cell_type": "code",
   "execution_count": 23,
   "metadata": {},
   "outputs": [],
   "source": [
    "2021\n",
    "driver = webdriver.Chrome()\n",
    "driver.get(url)\n",
    "sleep(5)\n",
    "acceder_datos = driver.find_element('css selector','#aceptarCookie').click()\n",
    "driver.implicitly_wait(10)\n",
    "boton_elijo = driver.find_element(\"css selector\", '#periodo > option:nth-child(2)').click()\n",
    "driver.implicitly_wait(10)\n",
    "boton_consulta = driver.find_element(\"css selector\", '#botonConsulSele').click()\n",
    "driver.implicitly_wait(10)\n",
    "acceder_datos1 = driver.find_element('xpath','/html/body/div[1]/main/ul/li/div/div/form[2]/button').click()\n",
    "driver.implicitly_wait(20)\n",
    "sleep(5)\n",
    "acceder_datos2  = driver.find_element('xpath','//*[@id=\"export\"]/ul/li[4]/label').click()\n"
   ]
  },
  {
   "cell_type": "code",
   "execution_count": 8,
   "metadata": {},
   "outputs": [],
   "source": [
    "2020\n",
    "driver = webdriver.Chrome()\n",
    "driver.get(url)\n",
    "sleep(5)\n",
    "acceder_datos = driver.find_element('css selector','#aceptarCookie').click()\n",
    "driver.implicitly_wait(10)\n",
    "boton_elijo = driver.find_element(\"css selector\", '#periodo > option:nth-child(3)').click()\n",
    "driver.implicitly_wait(10)\n",
    "boton_consulta = driver.find_element(\"css selector\", '#botonConsulSele').click()\n",
    "driver.implicitly_wait(10)\n",
    "acceder_datos1 = driver.find_element('xpath','/html/body/div[1]/main/ul/li/div/div/form[2]/button').click()\n",
    "driver.implicitly_wait(20)\n",
    "sleep(5)\n",
    "acceder_datos2  = driver.find_element('xpath','//*[@id=\"export\"]/ul/li[4]/label').click()\n"
   ]
  },
  {
   "cell_type": "code",
   "execution_count": 10,
   "metadata": {},
   "outputs": [],
   "source": [
    "2019\n",
    "driver = webdriver.Chrome()\n",
    "driver.get(url)\n",
    "sleep(5)\n",
    "acceder_datos = driver.find_element('css selector','#aceptarCookie').click()\n",
    "driver.implicitly_wait(10)\n",
    "boton_elijo = driver.find_element(\"css selector\", '#periodo > option:nth-child(4)').click()\n",
    "driver.implicitly_wait(10)\n",
    "boton_consulta = driver.find_element(\"css selector\", '#botonConsulSele').click()\n",
    "driver.implicitly_wait(10)\n",
    "acceder_datos1 = driver.find_element('xpath','/html/body/div[1]/main/ul/li/div/div/form[2]/button').click()\n",
    "driver.implicitly_wait(20)\n",
    "sleep(5)\n",
    "acceder_datos2  = driver.find_element('xpath','//*[@id=\"export\"]/ul/li[4]/label').click()"
   ]
  },
  {
   "cell_type": "code",
   "execution_count": 24,
   "metadata": {},
   "outputs": [
    {
     "ename": "NoSuchElementException",
     "evalue": "Message: no such element: Unable to locate element: {\"method\":\"xpath\",\"selector\":\"//*[@id=\"export\"]/ul/li[4]/label\"}\n  (Session info: chrome=130.0.6723.70); For documentation on this error, please visit: https://www.selenium.dev/documentation/webdriver/troubleshooting/errors#no-such-element-exception\nStacktrace:\n\tGetHandleVerifier [0x00007FF7AEA03AB5+28005]\n\t(No symbol) [0x00007FF7AE9683B0]\n\t(No symbol) [0x00007FF7AE80580A]\n\t(No symbol) [0x00007FF7AE855A3E]\n\t(No symbol) [0x00007FF7AE855D2C]\n\t(No symbol) [0x00007FF7AE89EA97]\n\t(No symbol) [0x00007FF7AE87BA7F]\n\t(No symbol) [0x00007FF7AE89B8B3]\n\t(No symbol) [0x00007FF7AE87B7E3]\n\t(No symbol) [0x00007FF7AE8475C8]\n\t(No symbol) [0x00007FF7AE848731]\n\tGetHandleVerifier [0x00007FF7AECF643D+3118829]\n\tGetHandleVerifier [0x00007FF7AED46C90+3448640]\n\tGetHandleVerifier [0x00007FF7AED3CF0D+3408317]\n\tGetHandleVerifier [0x00007FF7AEACA40B+841403]\n\t(No symbol) [0x00007FF7AE97340F]\n\t(No symbol) [0x00007FF7AE96F484]\n\t(No symbol) [0x00007FF7AE96F61D]\n\t(No symbol) [0x00007FF7AE95EB79]\n\tBaseThreadInitThunk [0x00007FFBC7CA7374+20]\n\tRtlUserThreadStart [0x00007FFBC8B1CC91+33]\n",
     "output_type": "error",
     "traceback": [
      "\u001b[1;31m---------------------------------------------------------------------------\u001b[0m",
      "\u001b[1;31mNoSuchElementException\u001b[0m                    Traceback (most recent call last)",
      "Cell \u001b[1;32mIn[24], line 2\u001b[0m\n\u001b[0;32m      1\u001b[0m url\u001b[38;5;241m=\u001b[39m\u001b[38;5;124m\"\u001b[39m\u001b[38;5;124mhttps://www.ine.es/jaxi/Tabla.htm?tpx=67284&L=0\u001b[39m\u001b[38;5;124m\"\u001b[39m   \n\u001b[1;32m----> 2\u001b[0m \u001b[43msps\u001b[49m\u001b[38;5;241;43m.\u001b[39;49m\u001b[43macceder_datos_multiple\u001b[49m\u001b[43m(\u001b[49m\u001b[43murl\u001b[49m\u001b[43m)\u001b[49m\n",
      "File \u001b[1;32mc:\\Users\\HP\\Boot\\Laboratorio-ETL-An-lisis-del-Sistema-Energ-tico-en-Espa-a\\notebooks\\..\\src\\selenium.py:60\u001b[0m, in \u001b[0;36macceder_datos_multiple\u001b[1;34m(url)\u001b[0m\n\u001b[0;32m     57\u001b[0m driver\u001b[38;5;241m.\u001b[39mimplicitly_wait(\u001b[38;5;241m20\u001b[39m)\n\u001b[0;32m     58\u001b[0m sleep(\u001b[38;5;241m5\u001b[39m)\n\u001b[1;32m---> 60\u001b[0m extraemos  \u001b[38;5;241m=\u001b[39m driver\u001b[38;5;241m.\u001b[39mfind_element(\u001b[38;5;124m'\u001b[39m\u001b[38;5;124mxpath\u001b[39m\u001b[38;5;124m'\u001b[39m, \u001b[38;5;124m'\u001b[39m\u001b[38;5;124m//*[@id=\u001b[39m\u001b[38;5;124m\"\u001b[39m\u001b[38;5;124mexport\u001b[39m\u001b[38;5;124m\"\u001b[39m\u001b[38;5;124m]/ul/li[4]/label\u001b[39m\u001b[38;5;124m'\u001b[39m)\u001b[38;5;241m.\u001b[39mclick()\n\u001b[0;32m     61\u001b[0m \u001b[38;5;28;01mreturn\u001b[39;00m \u001b[38;5;28;01mNone\u001b[39;00m\n",
      "File \u001b[1;32mc:\\Users\\HP\\AppData\\Local\\Programs\\Python\\Python312\\Lib\\site-packages\\selenium\\webdriver\\remote\\webdriver.py:741\u001b[0m, in \u001b[0;36mWebDriver.find_element\u001b[1;34m(self, by, value)\u001b[0m\n\u001b[0;32m    738\u001b[0m     by \u001b[38;5;241m=\u001b[39m By\u001b[38;5;241m.\u001b[39mCSS_SELECTOR\n\u001b[0;32m    739\u001b[0m     value \u001b[38;5;241m=\u001b[39m \u001b[38;5;124mf\u001b[39m\u001b[38;5;124m'\u001b[39m\u001b[38;5;124m[name=\u001b[39m\u001b[38;5;124m\"\u001b[39m\u001b[38;5;132;01m{\u001b[39;00mvalue\u001b[38;5;132;01m}\u001b[39;00m\u001b[38;5;124m\"\u001b[39m\u001b[38;5;124m]\u001b[39m\u001b[38;5;124m'\u001b[39m\n\u001b[1;32m--> 741\u001b[0m \u001b[38;5;28;01mreturn\u001b[39;00m \u001b[38;5;28;43mself\u001b[39;49m\u001b[38;5;241;43m.\u001b[39;49m\u001b[43mexecute\u001b[49m\u001b[43m(\u001b[49m\u001b[43mCommand\u001b[49m\u001b[38;5;241;43m.\u001b[39;49m\u001b[43mFIND_ELEMENT\u001b[49m\u001b[43m,\u001b[49m\u001b[43m \u001b[49m\u001b[43m{\u001b[49m\u001b[38;5;124;43m\"\u001b[39;49m\u001b[38;5;124;43musing\u001b[39;49m\u001b[38;5;124;43m\"\u001b[39;49m\u001b[43m:\u001b[49m\u001b[43m \u001b[49m\u001b[43mby\u001b[49m\u001b[43m,\u001b[49m\u001b[43m \u001b[49m\u001b[38;5;124;43m\"\u001b[39;49m\u001b[38;5;124;43mvalue\u001b[39;49m\u001b[38;5;124;43m\"\u001b[39;49m\u001b[43m:\u001b[49m\u001b[43m \u001b[49m\u001b[43mvalue\u001b[49m\u001b[43m}\u001b[49m\u001b[43m)\u001b[49m[\u001b[38;5;124m\"\u001b[39m\u001b[38;5;124mvalue\u001b[39m\u001b[38;5;124m\"\u001b[39m]\n",
      "File \u001b[1;32mc:\\Users\\HP\\AppData\\Local\\Programs\\Python\\Python312\\Lib\\site-packages\\selenium\\webdriver\\remote\\webdriver.py:347\u001b[0m, in \u001b[0;36mWebDriver.execute\u001b[1;34m(self, driver_command, params)\u001b[0m\n\u001b[0;32m    345\u001b[0m response \u001b[38;5;241m=\u001b[39m \u001b[38;5;28mself\u001b[39m\u001b[38;5;241m.\u001b[39mcommand_executor\u001b[38;5;241m.\u001b[39mexecute(driver_command, params)\n\u001b[0;32m    346\u001b[0m \u001b[38;5;28;01mif\u001b[39;00m response:\n\u001b[1;32m--> 347\u001b[0m     \u001b[38;5;28;43mself\u001b[39;49m\u001b[38;5;241;43m.\u001b[39;49m\u001b[43merror_handler\u001b[49m\u001b[38;5;241;43m.\u001b[39;49m\u001b[43mcheck_response\u001b[49m\u001b[43m(\u001b[49m\u001b[43mresponse\u001b[49m\u001b[43m)\u001b[49m\n\u001b[0;32m    348\u001b[0m     response[\u001b[38;5;124m\"\u001b[39m\u001b[38;5;124mvalue\u001b[39m\u001b[38;5;124m\"\u001b[39m] \u001b[38;5;241m=\u001b[39m \u001b[38;5;28mself\u001b[39m\u001b[38;5;241m.\u001b[39m_unwrap_value(response\u001b[38;5;241m.\u001b[39mget(\u001b[38;5;124m\"\u001b[39m\u001b[38;5;124mvalue\u001b[39m\u001b[38;5;124m\"\u001b[39m, \u001b[38;5;28;01mNone\u001b[39;00m))\n\u001b[0;32m    349\u001b[0m     \u001b[38;5;28;01mreturn\u001b[39;00m response\n",
      "File \u001b[1;32mc:\\Users\\HP\\AppData\\Local\\Programs\\Python\\Python312\\Lib\\site-packages\\selenium\\webdriver\\remote\\errorhandler.py:229\u001b[0m, in \u001b[0;36mErrorHandler.check_response\u001b[1;34m(self, response)\u001b[0m\n\u001b[0;32m    227\u001b[0m         alert_text \u001b[38;5;241m=\u001b[39m value[\u001b[38;5;124m\"\u001b[39m\u001b[38;5;124malert\u001b[39m\u001b[38;5;124m\"\u001b[39m]\u001b[38;5;241m.\u001b[39mget(\u001b[38;5;124m\"\u001b[39m\u001b[38;5;124mtext\u001b[39m\u001b[38;5;124m\"\u001b[39m)\n\u001b[0;32m    228\u001b[0m     \u001b[38;5;28;01mraise\u001b[39;00m exception_class(message, screen, stacktrace, alert_text)  \u001b[38;5;66;03m# type: ignore[call-arg]  # mypy is not smart enough here\u001b[39;00m\n\u001b[1;32m--> 229\u001b[0m \u001b[38;5;28;01mraise\u001b[39;00m exception_class(message, screen, stacktrace)\n",
      "\u001b[1;31mNoSuchElementException\u001b[0m: Message: no such element: Unable to locate element: {\"method\":\"xpath\",\"selector\":\"//*[@id=\"export\"]/ul/li[4]/label\"}\n  (Session info: chrome=130.0.6723.70); For documentation on this error, please visit: https://www.selenium.dev/documentation/webdriver/troubleshooting/errors#no-such-element-exception\nStacktrace:\n\tGetHandleVerifier [0x00007FF7AEA03AB5+28005]\n\t(No symbol) [0x00007FF7AE9683B0]\n\t(No symbol) [0x00007FF7AE80580A]\n\t(No symbol) [0x00007FF7AE855A3E]\n\t(No symbol) [0x00007FF7AE855D2C]\n\t(No symbol) [0x00007FF7AE89EA97]\n\t(No symbol) [0x00007FF7AE87BA7F]\n\t(No symbol) [0x00007FF7AE89B8B3]\n\t(No symbol) [0x00007FF7AE87B7E3]\n\t(No symbol) [0x00007FF7AE8475C8]\n\t(No symbol) [0x00007FF7AE848731]\n\tGetHandleVerifier [0x00007FF7AECF643D+3118829]\n\tGetHandleVerifier [0x00007FF7AED46C90+3448640]\n\tGetHandleVerifier [0x00007FF7AED3CF0D+3408317]\n\tGetHandleVerifier [0x00007FF7AEACA40B+841403]\n\t(No symbol) [0x00007FF7AE97340F]\n\t(No symbol) [0x00007FF7AE96F484]\n\t(No symbol) [0x00007FF7AE96F61D]\n\t(No symbol) [0x00007FF7AE95EB79]\n\tBaseThreadInitThunk [0x00007FFBC7CA7374+20]\n\tRtlUserThreadStart [0x00007FFBC8B1CC91+33]\n"
     ]
    }
   ],
   "source": [
    "# url=\"https://www.ine.es/jaxi/Tabla.htm?tpx=67284&L=0\"   \n",
    "# sps.acceder_datos_multiple(url)\n",
    "   \n",
    "#la funcion va bien pero la pagina se cuega mucho\n"
   ]
  }
 ],
 "metadata": {
  "kernelspec": {
   "display_name": "Python 3",
   "language": "python",
   "name": "python3"
  },
  "language_info": {
   "codemirror_mode": {
    "name": "ipython",
    "version": 3
   },
   "file_extension": ".py",
   "mimetype": "text/x-python",
   "name": "python",
   "nbconvert_exporter": "python",
   "pygments_lexer": "ipython3",
   "version": "3.12.6"
  }
 },
 "nbformat": 4,
 "nbformat_minor": 2
}
