{
 "cells": [
  {
   "cell_type": "code",
   "execution_count": 1,
   "metadata": {},
   "outputs": [],
   "source": [
    "from selenium.webdriver.support.ui import WebDriverWait\n",
    "from selenium.webdriver.common.by import By\n",
    "from selenium.webdriver.support import expected_conditions as EC\n",
    "from time import sleep\n",
    "# Selenium para establecer la configuración del driver\n",
    "# -----------------------------------------------------------------------\n",
    "from selenium import webdriver\n",
    "\n",
    "# Para generar una barra de proceso en los bucles for\n",
    "# -----------------------------------------------------------------------\n",
    "from tqdm import tqdm\n",
    "\n",
    "# Para trabajar con ficheros\n",
    "# -----------------------------------------------------------------------\n",
    "import os\n",
    "\n",
    "import re\n",
    "\n",
    "import zipfile\n",
    "import shutil\n",
    "import re\n",
    "import sys\n",
    "sys.path.append(\"../\")\n",
    "from src import selenium as sps"
   ]
  },
  {
   "cell_type": "code",
   "execution_count": 2,
   "metadata": {},
   "outputs": [
    {
     "name": "stdout",
     "output_type": "stream",
     "text": [
      "Error al clickear en la descarga del csv, probamos otra vez, hasta que no este en popup\n",
      "Error al clickear en la descarga del csv, probamos otra vez, hasta que no este en popup\n",
      "Error al clickear en la descarga del csv, probamos otra vez, hasta que no este en popup\n",
      "Error al clickear en la descarga del csv, probamos otra vez, hasta que no este en popup\n",
      "Error al clickear en la descarga del csv, probamos otra vez, hasta que no este en popup\n"
     ]
    }
   ],
   "source": [
    "for i in range(2, 5):\n",
    "    url = \"https://www.ine.es/jaxi/Tabla.htm?path=/t20/e245/p08/l0/&file=03001.px&L=0\"\n",
    "    sps.acceder_datos_multiple(url,i)"
   ]
  },
  {
   "cell_type": "code",
   "execution_count": 5,
   "metadata": {},
   "outputs": [],
   "source": [
    "for i in range(2, 5):\n",
    "    url_pib='https://www.ine.es/jaxi/Tabla.htm?tpx=67284&L=0'\n",
    "    sps.acceder_datos_multiple(url_pib,i)\n",
    "    "
   ]
  },
  {
   "cell_type": "code",
   "execution_count": 4,
   "metadata": {},
   "outputs": [
    {
     "name": "stdout",
     "output_type": "stream",
     "text": [
      "Error al clickear en la descarga del csv, probamos otra vez, hasta que no este en popup\n"
     ]
    }
   ],
   "source": [
    "for i in range(2, 5):\n",
    "    url_empleo='https://www.ine.es/jaxi/Tabla.htm?tpx=67285&L=0'\n",
    "    sps.acceder_datos_multiple(url_empleo,i)"
   ]
  },
  {
   "cell_type": "code",
   "execution_count": null,
   "metadata": {},
   "outputs": [],
   "source": []
  }
 ],
 "metadata": {
  "kernelspec": {
   "display_name": "Python 3",
   "language": "python",
   "name": "python3"
  },
  "language_info": {
   "codemirror_mode": {
    "name": "ipython",
    "version": 3
   },
   "file_extension": ".py",
   "mimetype": "text/x-python",
   "name": "python",
   "nbconvert_exporter": "python",
   "pygments_lexer": "ipython3",
   "version": "3.12.6"
  }
 },
 "nbformat": 4,
 "nbformat_minor": 2
}
