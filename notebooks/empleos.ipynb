{
 "cells": [
  {
   "cell_type": "code",
   "execution_count": 1,
   "metadata": {},
   "outputs": [],
   "source": [
    "from selenium.webdriver.support.ui import WebDriverWait\n",
    "from selenium.webdriver.common.by import By\n",
    "from selenium.webdriver.support import expected_conditions as EC\n",
    "from time import sleep\n",
    "# Selenium para establecer la configuración del driver\n",
    "# -----------------------------------------------------------------------\n",
    "from selenium import webdriver\n",
    "\n",
    "# Para generar una barra de proceso en los bucles for\n",
    "# -----------------------------------------------------------------------\n",
    "from tqdm import tqdm\n",
    "\n",
    "# Para trabajar con ficheros\n",
    "# -----------------------------------------------------------------------\n",
    "import os\n",
    "\n",
    "import re\n",
    "\n",
    "import zipfile\n",
    "import shutil\n",
    "import re\n",
    "import sys\n",
    "sys.path.append(\"../\")\n",
    "from src import selenium as sps"
   ]
  },
  {
   "cell_type": "code",
   "execution_count": 2,
   "metadata": {},
   "outputs": [],
   "source": [
    "url = \"https://www.ine.es/jaxi/Tabla.htm?tpx=67285&L=0\"\n",
    "sps.acceder_datos_multiple(url)     #empleabilidad\n"
   ]
  },
  {
   "cell_type": "code",
   "execution_count": 3,
   "metadata": {},
   "outputs": [],
   "source": [
    "chrome_options = webdriver.ChromeOptions()\n",
    "\n",
    "# establacemos las preferencias que queremos\n",
    "prefs = {\n",
    "    \"download.default_directory\": \"C:\\\\Users\\\\HP\\\\Boot\\\\Proyecto extraccion-carpeta-des\\\\datos\",  # AQUÍ CADA UNO TENDREMOS QUE PONER LA RUTA QUE QUERAMOS PARA QUE SE GUARDEN LOS ARCHIVOS DESCARGADOS\n",
    "    \"download.prompt_for_download\": False,   # desactiva el diálogo que Chrome normalmente muestra para pedir confirmación del usuario antes de descargar un archivo\n",
    "    \"directory_upgrade\": True,    # hace que Chrome actualice el directorio de descarga predeterminado a la nueva ubicación especificada por download.default_directory si esta ha cambiado.\n",
    "    \"safebrowsing.enabled\": True # protegemos al driver de sitios web peligrosos\n",
    "}\n",
    "\n",
    "# configuramos el navegador Chrome con preferencias específicas definidas en el diccionario prefs\n",
    "chrome_options.add_experimental_option(\"prefs\", prefs)\n"
   ]
  },
  {
   "cell_type": "code",
   "execution_count": 4,
   "metadata": {},
   "outputs": [],
   "source": [
    "2021\n",
    "driver = webdriver.Chrome()\n",
    "driver.get(url)\n",
    "sleep(5)\n",
    "acceder_datos = driver.find_element('css selector','#aceptarCookie').click()\n",
    "driver.implicitly_wait(10)\n",
    "boton_elijo = driver.find_element(\"css selector\", '#periodo > option:nth-child(2)').click()\n",
    "driver.implicitly_wait(10)\n",
    "boton_consulta = driver.find_element(\"css selector\", '#botonConsulSele').click()\n",
    "driver.implicitly_wait(10)\n",
    "acceder_datos1 = driver.find_element('xpath','/html/body/div[1]/main/ul/li/div/div/form[2]/button').click()\n",
    "driver.implicitly_wait(20)\n",
    "sleep(5)\n",
    "acceder_datos2  = driver.find_element('xpath','//*[@id=\"export\"]/ul/li[4]/label').click()\n"
   ]
  },
  {
   "cell_type": "code",
   "execution_count": 81,
   "metadata": {},
   "outputs": [],
   "source": [
    "2020\n",
    "driver = webdriver.Chrome()\n",
    "driver.get(url)\n",
    "sleep(5)\n",
    "acceder_datos = driver.find_element('css selector','#aceptarCookie').click()\n",
    "driver.implicitly_wait(10)\n",
    "boton_elijo = driver.find_element(\"css selector\", '#periodo > option:nth-child(3)').click()\n",
    "driver.implicitly_wait(10)\n",
    "boton_consulta = driver.find_element(\"css selector\", '#botonConsulSele').click()\n",
    "driver.implicitly_wait(10)\n",
    "acceder_datos1 = driver.find_element('xpath','/html/body/div[1]/main/ul/li/div/div/form[2]/button').click()\n",
    "driver.implicitly_wait(20)\n",
    "sleep(5)\n",
    "acceder_datos2  = driver.find_element('xpath','//*[@id=\"export\"]/ul/li[4]/label').click()\n"
   ]
  },
  {
   "cell_type": "code",
   "execution_count": 82,
   "metadata": {},
   "outputs": [],
   "source": [
    "2019\n",
    "driver = webdriver.Chrome()\n",
    "driver.get(url)\n",
    "sleep(5)\n",
    "acceder_datos = driver.find_element('css selector','#aceptarCookie').click()\n",
    "driver.implicitly_wait(10)\n",
    "boton_elijo = driver.find_element(\"css selector\", '#periodo > option:nth-child(4)').click()\n",
    "driver.implicitly_wait(10)\n",
    "boton_consulta = driver.find_element(\"css selector\", '#botonConsulSele').click()\n",
    "driver.implicitly_wait(10)\n",
    "acceder_datos1 = driver.find_element('xpath','/html/body/div[1]/main/ul/li/div/div/form[2]/button').click()\n",
    "driver.implicitly_wait(20)\n",
    "sleep(5)\n",
    "acceder_datos2  = driver.find_element('xpath','//*[@id=\"export\"]/ul/li[4]/label').click()"
   ]
  }
 ],
 "metadata": {
  "kernelspec": {
   "display_name": "Python 3",
   "language": "python",
   "name": "python3"
  },
  "language_info": {
   "codemirror_mode": {
    "name": "ipython",
    "version": 3
   },
   "file_extension": ".py",
   "mimetype": "text/x-python",
   "name": "python",
   "nbconvert_exporter": "python",
   "pygments_lexer": "ipython3",
   "version": "3.12.6"
  }
 },
 "nbformat": 4,
 "nbformat_minor": 2
}
